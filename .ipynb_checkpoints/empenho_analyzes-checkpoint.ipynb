{
 "cells": [
  {
   "cell_type": "code",
   "execution_count": 72,
   "metadata": {},
   "outputs": [],
   "source": [
    "import pandas as pd\n",
    "from decimal import Decimal\n",
    "from re import sub"
   ]
  },
  {
   "cell_type": "code",
   "execution_count": 73,
   "metadata": {},
   "outputs": [],
   "source": [
    "df_csv = pd.read_csv('Consulta.csv')"
   ]
  },
  {
   "cell_type": "code",
   "execution_count": 74,
   "metadata": {},
   "outputs": [
    {
     "name": "stdout",
     "output_type": "stream",
     "text": [
      "<class 'pandas.core.frame.DataFrame'>\n",
      "RangeIndex: 3232 entries, 0 to 3231\n",
      "Data columns (total 8 columns):\n",
      "Data                       3232 non-null object\n",
      "Empenho                    3232 non-null int64\n",
      "Unidade gestora            3232 non-null object\n",
      "CPF/CNPJ                   3049 non-null object\n",
      "Natureza da despesa        3232 non-null object\n",
      "Modalidade da licitação    3232 non-null object\n",
      "Registro                   3232 non-null object\n",
      "Valor (R$)                 3232 non-null object\n",
      "dtypes: int64(1), object(7)\n",
      "memory usage: 202.1+ KB\n"
     ]
    }
   ],
   "source": [
    "df_csv.info()"
   ]
  },
  {
   "cell_type": "code",
   "execution_count": 75,
   "metadata": {},
   "outputs": [],
   "source": [
    "def to_float(x):\n",
    "    x = sub(r'[.]', '', x)\n",
    "    x = sub(r'[,]', '.', x)\n",
    "    return float(x)"
   ]
  },
  {
   "cell_type": "code",
   "execution_count": 76,
   "metadata": {},
   "outputs": [],
   "source": [
    "df_csv['Valor (R$)'] = df_csv['Valor (R$)'].apply(to_float)"
   ]
  },
  {
   "cell_type": "code",
   "execution_count": 77,
   "metadata": {},
   "outputs": [
    {
     "name": "stdout",
     "output_type": "stream",
     "text": [
      "<class 'pandas.core.frame.DataFrame'>\n",
      "RangeIndex: 3232 entries, 0 to 3231\n",
      "Data columns (total 8 columns):\n",
      "Data                       3232 non-null object\n",
      "Empenho                    3232 non-null int64\n",
      "Unidade gestora            3232 non-null object\n",
      "CPF/CNPJ                   3049 non-null object\n",
      "Natureza da despesa        3232 non-null object\n",
      "Modalidade da licitação    3232 non-null object\n",
      "Registro                   3232 non-null object\n",
      "Valor (R$)                 3232 non-null float64\n",
      "dtypes: float64(1), int64(1), object(6)\n",
      "memory usage: 202.1+ KB\n"
     ]
    }
   ],
   "source": [
    "df_csv.info()"
   ]
  },
  {
   "cell_type": "code",
   "execution_count": 78,
   "metadata": {},
   "outputs": [
    {
     "data": {
      "text/plain": [
       "2.95"
      ]
     },
     "execution_count": 78,
     "metadata": {},
     "output_type": "execute_result"
    }
   ],
   "source": [
    "df_csv['Valor (R$)'].min()"
   ]
  },
  {
   "cell_type": "code",
   "execution_count": 79,
   "metadata": {},
   "outputs": [
    {
     "data": {
      "text/plain": [
       "10400000.0"
      ]
     },
     "execution_count": 79,
     "metadata": {},
     "output_type": "execute_result"
    }
   ],
   "source": [
    "df_csv['Valor (R$)'].max()"
   ]
  },
  {
   "cell_type": "code",
   "execution_count": 80,
   "metadata": {},
   "outputs": [
    {
     "data": {
      "text/plain": [
       "67560.63483601485"
      ]
     },
     "execution_count": 80,
     "metadata": {},
     "output_type": "execute_result"
    }
   ],
   "source": [
    "df_csv['Valor (R$)'].mean()"
   ]
  },
  {
   "cell_type": "code",
   "execution_count": 81,
   "metadata": {},
   "outputs": [
    {
     "data": {
      "text/html": [
       "<div>\n",
       "<style scoped>\n",
       "    .dataframe tbody tr th:only-of-type {\n",
       "        vertical-align: middle;\n",
       "    }\n",
       "\n",
       "    .dataframe tbody tr th {\n",
       "        vertical-align: top;\n",
       "    }\n",
       "\n",
       "    .dataframe thead th {\n",
       "        text-align: right;\n",
       "    }\n",
       "</style>\n",
       "<table border=\"1\" class=\"dataframe\">\n",
       "  <thead>\n",
       "    <tr style=\"text-align: right;\">\n",
       "      <th></th>\n",
       "      <th>Data</th>\n",
       "      <th>Empenho</th>\n",
       "      <th>Unidade gestora</th>\n",
       "      <th>CPF/CNPJ</th>\n",
       "      <th>Natureza da despesa</th>\n",
       "      <th>Modalidade da licitação</th>\n",
       "      <th>Registro</th>\n",
       "      <th>Valor (R$)</th>\n",
       "    </tr>\n",
       "  </thead>\n",
       "  <tbody>\n",
       "    <tr>\n",
       "      <th>832</th>\n",
       "      <td>20/03/2018</td>\n",
       "      <td>20030021</td>\n",
       "      <td>053 - Sec.Mun.Desenv.Soc.e Trabalho - SEDEST</td>\n",
       "      <td>XX.X00.000/ 0433-20</td>\n",
       "      <td>3.3.90.39.00 - Outros serv. de terc. pessoa ju...</td>\n",
       "      <td>Outros/não se aplica</td>\n",
       "      <td>Realizado</td>\n",
       "      <td>2.95</td>\n",
       "    </tr>\n",
       "  </tbody>\n",
       "</table>\n",
       "</div>"
      ],
      "text/plain": [
       "           Data   Empenho                               Unidade gestora  \\\n",
       "832  20/03/2018  20030021  053 - Sec.Mun.Desenv.Soc.e Trabalho - SEDEST   \n",
       "\n",
       "                CPF/CNPJ                                Natureza da despesa  \\\n",
       "832  XX.X00.000/ 0433-20  3.3.90.39.00 - Outros serv. de terc. pessoa ju...   \n",
       "\n",
       "    Modalidade da licitação   Registro  Valor (R$)  \n",
       "832    Outros/não se aplica  Realizado        2.95  "
      ]
     },
     "execution_count": 81,
     "metadata": {},
     "output_type": "execute_result"
    }
   ],
   "source": [
    "df_csv[df_csv['Valor (R$)'] == df_csv['Valor (R$)'].min()]"
   ]
  },
  {
   "cell_type": "code",
   "execution_count": 82,
   "metadata": {},
   "outputs": [
    {
     "data": {
      "text/html": [
       "<div>\n",
       "<style scoped>\n",
       "    .dataframe tbody tr th:only-of-type {\n",
       "        vertical-align: middle;\n",
       "    }\n",
       "\n",
       "    .dataframe tbody tr th {\n",
       "        vertical-align: top;\n",
       "    }\n",
       "\n",
       "    .dataframe thead th {\n",
       "        text-align: right;\n",
       "    }\n",
       "</style>\n",
       "<table border=\"1\" class=\"dataframe\">\n",
       "  <thead>\n",
       "    <tr style=\"text-align: right;\">\n",
       "      <th></th>\n",
       "      <th>Data</th>\n",
       "      <th>Empenho</th>\n",
       "      <th>Unidade gestora</th>\n",
       "      <th>CPF/CNPJ</th>\n",
       "      <th>Natureza da despesa</th>\n",
       "      <th>Modalidade da licitação</th>\n",
       "      <th>Registro</th>\n",
       "      <th>Valor (R$)</th>\n",
       "    </tr>\n",
       "  </thead>\n",
       "  <tbody>\n",
       "    <tr>\n",
       "      <th>1675</th>\n",
       "      <td>02/05/2018</td>\n",
       "      <td>2050075</td>\n",
       "      <td>005 - Secretaria Municipal de Educação</td>\n",
       "      <td>NaN</td>\n",
       "      <td>3.1.90.11.00 - Vencimentos e vant. fixas pesso...</td>\n",
       "      <td>Outros/não se aplica</td>\n",
       "      <td>Realizado</td>\n",
       "      <td>10400000.0</td>\n",
       "    </tr>\n",
       "  </tbody>\n",
       "</table>\n",
       "</div>"
      ],
      "text/plain": [
       "            Data  Empenho                         Unidade gestora CPF/CNPJ  \\\n",
       "1675  02/05/2018  2050075  005 - Secretaria Municipal de Educação      NaN   \n",
       "\n",
       "                                    Natureza da despesa  \\\n",
       "1675  3.1.90.11.00 - Vencimentos e vant. fixas pesso...   \n",
       "\n",
       "     Modalidade da licitação   Registro  Valor (R$)  \n",
       "1675    Outros/não se aplica  Realizado  10400000.0  "
      ]
     },
     "execution_count": 82,
     "metadata": {},
     "output_type": "execute_result"
    }
   ],
   "source": [
    "df_csv[df_csv['Valor (R$)'] == df_csv['Valor (R$)'].max()]"
   ]
  },
  {
   "cell_type": "code",
   "execution_count": 83,
   "metadata": {},
   "outputs": [
    {
     "data": {
      "text/plain": [
       "array(['004 - Secretaria Municipal de Saúde',\n",
       "       '005 - Secretaria Municipal de Educação',\n",
       "       '050 - Secretaria Municipal de Cultura',\n",
       "       '014 - Secretaria Mun. Seg. Publica e Cidadania',\n",
       "       '012 - Secretaria de Infraestrutura',\n",
       "       '043 - Autarquia Municipal do Meio Ambiente',\n",
       "       '046 - Secretaria Municipal de Desenvolvimento Econômico',\n",
       "       '052 - Sec. Mun. de Esporte e Juventude',\n",
       "       '013 - Secretaria de Meio-Ambiente e Serv. Publicos',\n",
       "       '021 - Demutran - Dpto Municipal de Transito',\n",
       "       '049 - Sec. Mun. de Administração e Finanças',\n",
       "       '051 - Sec. Mun. de Agricultura e Abastecimento',\n",
       "       '053 - Sec.Mun.Desenv.Soc.e Trabalho - SEDEST',\n",
       "       '008 - Gabinete do Prefeito',\n",
       "       '009 - Procuradoria Geral do Municipio',\n",
       "       '054 - Secretaria Municipal de Turismo e Romaria',\n",
       "       '042 - Controladoria e Ouvidoria Geral do Municipio',\n",
       "       '055 - Guarda Civil Municipal - GCM',\n",
       "       '022 - Fundacao Memorial Padre Cicero',\n",
       "       '056 - Fundo M.dos Dir.da Criança e Adolescente'], dtype=object)"
      ]
     },
     "execution_count": 83,
     "metadata": {},
     "output_type": "execute_result"
    }
   ],
   "source": [
    "df_csv['Unidade gestora'].unique()"
   ]
  },
  {
   "cell_type": "code",
   "execution_count": 85,
   "metadata": {},
   "outputs": [
    {
     "data": {
      "text/plain": [
       "Data                                                              30/05/2018\n",
       "Empenho                                                             30050052\n",
       "Unidade gestora                           012 - Secretaria de Infraestrutura\n",
       "Natureza da despesa        4.4.90.52.00 - Equipamentos e material permanente\n",
       "Modalidade da licitação                                      Tomada de preço\n",
       "Registro                                                           Realizado\n",
       "Valor (R$)                                                             3e+06\n",
       "dtype: object"
      ]
     },
     "execution_count": 85,
     "metadata": {},
     "output_type": "execute_result"
    }
   ],
   "source": [
    "df_csv[df_csv['Unidade gestora'] == '012 - Secretaria de Infraestrutura'].max()"
   ]
  },
  {
   "cell_type": "code",
   "execution_count": null,
   "metadata": {},
   "outputs": [],
   "source": []
  },
  {
   "cell_type": "code",
   "execution_count": 87,
   "metadata": {},
   "outputs": [
    {
     "data": {
      "text/plain": [
       "Data                                                              29/06/2018\n",
       "Empenho                                                             29060009\n",
       "Unidade gestora                  049 - Sec. Mun. de Administração e Finanças\n",
       "Natureza da despesa        4.6.90.71.00 - Principal da dívida contratual ...\n",
       "Modalidade da licitação                                      Tomada de preço\n",
       "Registro                                                           Realizado\n",
       "Valor (R$)                                                             2e+06\n",
       "dtype: object"
      ]
     },
     "execution_count": 87,
     "metadata": {},
     "output_type": "execute_result"
    }
   ],
   "source": [
    "df_csv[df_csv['Unidade gestora'] == '049 - Sec. Mun. de Administração e Finanças'].max()"
   ]
  },
  {
   "cell_type": "code",
   "execution_count": 88,
   "metadata": {},
   "outputs": [],
   "source": [
    "from collections import Counter"
   ]
  },
  {
   "cell_type": "code",
   "execution_count": 90,
   "metadata": {},
   "outputs": [
    {
     "data": {
      "text/plain": [
       "Counter({True: 3232})"
      ]
     },
     "execution_count": 90,
     "metadata": {},
     "output_type": "execute_result"
    }
   ],
   "source": [
    "Counter(df_csv['Empenho'] > 1)"
   ]
  },
  {
   "cell_type": "code",
   "execution_count": null,
   "metadata": {},
   "outputs": [],
   "source": []
  }
 ],
 "metadata": {
  "kernelspec": {
   "display_name": "Python 3",
   "language": "python",
   "name": "python3"
  },
  "language_info": {
   "codemirror_mode": {
    "name": "ipython",
    "version": 3
   },
   "file_extension": ".py",
   "mimetype": "text/x-python",
   "name": "python",
   "nbconvert_exporter": "python",
   "pygments_lexer": "ipython3",
   "version": "3.6.8"
  }
 },
 "nbformat": 4,
 "nbformat_minor": 2
}
