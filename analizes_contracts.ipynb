{
 "cells": [
  {
   "cell_type": "code",
   "execution_count": 2,
   "metadata": {},
   "outputs": [],
   "source": [
    "import pandas as pd"
   ]
  },
  {
   "cell_type": "code",
   "execution_count": 3,
   "metadata": {},
   "outputs": [],
   "source": [
    "df_relatorios = pd.read_csv('Relatório.csv')"
   ]
  },
  {
   "cell_type": "code",
   "execution_count": 4,
   "metadata": {},
   "outputs": [
    {
     "name": "stdout",
     "output_type": "stream",
     "text": [
      "<class 'pandas.core.frame.DataFrame'>\n",
      "RangeIndex: 505 entries, 0 to 504\n",
      "Data columns (total 9 columns):\n",
      "Data                505 non-null object\n",
      "Número              505 non-null object\n",
      "Início vigência     505 non-null object\n",
      "Fim vigência        505 non-null object\n",
      "Tipo                505 non-null object\n",
      "Aditivo             96 non-null object\n",
      "Contratado          505 non-null object\n",
      "Valor (R$)          505 non-null object\n",
      "Número de anexos    505 non-null int64\n",
      "dtypes: int64(1), object(8)\n",
      "memory usage: 35.6+ KB\n"
     ]
    }
   ],
   "source": [
    "df_relatorios.info()"
   ]
  },
  {
   "cell_type": "code",
   "execution_count": 5,
   "metadata": {},
   "outputs": [
    {
     "data": {
      "text/html": [
       "<div>\n",
       "<style scoped>\n",
       "    .dataframe tbody tr th:only-of-type {\n",
       "        vertical-align: middle;\n",
       "    }\n",
       "\n",
       "    .dataframe tbody tr th {\n",
       "        vertical-align: top;\n",
       "    }\n",
       "\n",
       "    .dataframe thead th {\n",
       "        text-align: right;\n",
       "    }\n",
       "</style>\n",
       "<table border=\"1\" class=\"dataframe\">\n",
       "  <thead>\n",
       "    <tr style=\"text-align: right;\">\n",
       "      <th></th>\n",
       "      <th>Data</th>\n",
       "      <th>Número</th>\n",
       "      <th>Início vigência</th>\n",
       "      <th>Fim vigência</th>\n",
       "      <th>Tipo</th>\n",
       "      <th>Aditivo</th>\n",
       "      <th>Contratado</th>\n",
       "      <th>Valor (R$)</th>\n",
       "      <th>Número de anexos</th>\n",
       "    </tr>\n",
       "  </thead>\n",
       "  <tbody>\n",
       "    <tr>\n",
       "      <th>0</th>\n",
       "      <td>08/02/2018</td>\n",
       "      <td>2018.02.08.03</td>\n",
       "      <td>08/02/2018</td>\n",
       "      <td>31/12/2018</td>\n",
       "      <td>Contrato original</td>\n",
       "      <td>NaN</td>\n",
       "      <td>MILTON GOMES DE OLIVEIRA FILHO - ME</td>\n",
       "      <td>330.896,52</td>\n",
       "      <td>0</td>\n",
       "    </tr>\n",
       "    <tr>\n",
       "      <th>1</th>\n",
       "      <td>08/02/2018</td>\n",
       "      <td>2018.02.08.02</td>\n",
       "      <td>08/02/2018</td>\n",
       "      <td>31/12/2018</td>\n",
       "      <td>Contrato original</td>\n",
       "      <td>NaN</td>\n",
       "      <td>JOSÉ LINS DE ALBUQUERQUE FILHO EPP</td>\n",
       "      <td>352.866,09</td>\n",
       "      <td>0</td>\n",
       "    </tr>\n",
       "    <tr>\n",
       "      <th>2</th>\n",
       "      <td>08/02/2018</td>\n",
       "      <td>2018.02.08.01</td>\n",
       "      <td>08/02/2018</td>\n",
       "      <td>31/12/2018</td>\n",
       "      <td>Contrato original</td>\n",
       "      <td>NaN</td>\n",
       "      <td>VERDE VALE COMERCIO E SERVIÇOS EIRELI</td>\n",
       "      <td>76.227,36</td>\n",
       "      <td>0</td>\n",
       "    </tr>\n",
       "    <tr>\n",
       "      <th>3</th>\n",
       "      <td>08/02/2018</td>\n",
       "      <td>2018.02.08.04</td>\n",
       "      <td>08/02/2018</td>\n",
       "      <td>31/12/2018</td>\n",
       "      <td>Contrato original</td>\n",
       "      <td>NaN</td>\n",
       "      <td>EDER PEREIRA CORREIA - ME</td>\n",
       "      <td>8.146,80</td>\n",
       "      <td>0</td>\n",
       "    </tr>\n",
       "    <tr>\n",
       "      <th>4</th>\n",
       "      <td>15/02/2018</td>\n",
       "      <td>2018.03.28.1</td>\n",
       "      <td>15/02/2018</td>\n",
       "      <td>31/12/2018</td>\n",
       "      <td>Contrato original</td>\n",
       "      <td>NaN</td>\n",
       "      <td>CHRISTIANY VIEIRA DA SILVA ME</td>\n",
       "      <td>34.600,00</td>\n",
       "      <td>0</td>\n",
       "    </tr>\n",
       "  </tbody>\n",
       "</table>\n",
       "</div>"
      ],
      "text/plain": [
       "         Data         Número Início vigência Fim vigência               Tipo  \\\n",
       "0  08/02/2018  2018.02.08.03      08/02/2018   31/12/2018  Contrato original   \n",
       "1  08/02/2018  2018.02.08.02      08/02/2018   31/12/2018  Contrato original   \n",
       "2  08/02/2018  2018.02.08.01      08/02/2018   31/12/2018  Contrato original   \n",
       "3  08/02/2018  2018.02.08.04      08/02/2018   31/12/2018  Contrato original   \n",
       "4  15/02/2018   2018.03.28.1      15/02/2018   31/12/2018  Contrato original   \n",
       "\n",
       "  Aditivo                             Contratado  Valor (R$)  Número de anexos  \n",
       "0     NaN    MILTON GOMES DE OLIVEIRA FILHO - ME  330.896,52                 0  \n",
       "1     NaN     JOSÉ LINS DE ALBUQUERQUE FILHO EPP  352.866,09                 0  \n",
       "2     NaN  VERDE VALE COMERCIO E SERVIÇOS EIRELI   76.227,36                 0  \n",
       "3     NaN              EDER PEREIRA CORREIA - ME    8.146,80                 0  \n",
       "4     NaN          CHRISTIANY VIEIRA DA SILVA ME   34.600,00                 0  "
      ]
     },
     "execution_count": 5,
     "metadata": {},
     "output_type": "execute_result"
    }
   ],
   "source": [
    "df_relatorios.head()"
   ]
  },
  {
   "cell_type": "code",
   "execution_count": 6,
   "metadata": {},
   "outputs": [
    {
     "data": {
      "text/html": [
       "<div>\n",
       "<style scoped>\n",
       "    .dataframe tbody tr th:only-of-type {\n",
       "        vertical-align: middle;\n",
       "    }\n",
       "\n",
       "    .dataframe tbody tr th {\n",
       "        vertical-align: top;\n",
       "    }\n",
       "\n",
       "    .dataframe thead th {\n",
       "        text-align: right;\n",
       "    }\n",
       "</style>\n",
       "<table border=\"1\" class=\"dataframe\">\n",
       "  <thead>\n",
       "    <tr style=\"text-align: right;\">\n",
       "      <th></th>\n",
       "      <th>Data</th>\n",
       "      <th>Número</th>\n",
       "      <th>Início vigência</th>\n",
       "      <th>Fim vigência</th>\n",
       "      <th>Tipo</th>\n",
       "      <th>Aditivo</th>\n",
       "      <th>Contratado</th>\n",
       "      <th>Valor (R$)</th>\n",
       "      <th>Número de anexos</th>\n",
       "    </tr>\n",
       "  </thead>\n",
       "  <tbody>\n",
       "    <tr>\n",
       "      <th>177</th>\n",
       "      <td>13/04/2018</td>\n",
       "      <td>2017.09.11.02</td>\n",
       "      <td>13/04/2018</td>\n",
       "      <td>13/04/2018</td>\n",
       "      <td>Aditivo de rescisão de contrato</td>\n",
       "      <td>Aditivo 1</td>\n",
       "      <td>ERIVALDO CORREIA PEREIRA</td>\n",
       "      <td>0,00</td>\n",
       "      <td>0</td>\n",
       "    </tr>\n",
       "    <tr>\n",
       "      <th>214</th>\n",
       "      <td>20/04/2018</td>\n",
       "      <td>20180643</td>\n",
       "      <td>20/04/2018</td>\n",
       "      <td>31/12/2018</td>\n",
       "      <td>Contrato original</td>\n",
       "      <td>NaN</td>\n",
       "      <td>ALFA LOCAÇAO DE EQUIPAMENTOS LTDA-ME</td>\n",
       "      <td>0,00</td>\n",
       "      <td>0</td>\n",
       "    </tr>\n",
       "    <tr>\n",
       "      <th>379</th>\n",
       "      <td>14/05/2018</td>\n",
       "      <td>2017.07.14.01</td>\n",
       "      <td>14/05/2018</td>\n",
       "      <td>14/05/2018</td>\n",
       "      <td>Aditivo de rescisão de contrato</td>\n",
       "      <td>Aditivo 1</td>\n",
       "      <td>ELIAS DOS SANTOS</td>\n",
       "      <td>0,00</td>\n",
       "      <td>0</td>\n",
       "    </tr>\n",
       "  </tbody>\n",
       "</table>\n",
       "</div>"
      ],
      "text/plain": [
       "           Data         Número Início vigência Fim vigência  \\\n",
       "177  13/04/2018  2017.09.11.02      13/04/2018   13/04/2018   \n",
       "214  20/04/2018       20180643      20/04/2018   31/12/2018   \n",
       "379  14/05/2018  2017.07.14.01      14/05/2018   14/05/2018   \n",
       "\n",
       "                                Tipo    Aditivo  \\\n",
       "177  Aditivo de rescisão de contrato  Aditivo 1   \n",
       "214                Contrato original        NaN   \n",
       "379  Aditivo de rescisão de contrato  Aditivo 1   \n",
       "\n",
       "                               Contratado Valor (R$)  Número de anexos  \n",
       "177              ERIVALDO CORREIA PEREIRA       0,00                 0  \n",
       "214  ALFA LOCAÇAO DE EQUIPAMENTOS LTDA-ME       0,00                 0  \n",
       "379                      ELIAS DOS SANTOS       0,00                 0  "
      ]
     },
     "execution_count": 6,
     "metadata": {},
     "output_type": "execute_result"
    }
   ],
   "source": [
    "df_relatorios[df_relatorios['Valor (R$)'] == '0,00']"
   ]
  },
  {
   "cell_type": "code",
   "execution_count": 7,
   "metadata": {},
   "outputs": [
    {
     "data": {
      "text/plain": [
       "'985.450,90'"
      ]
     },
     "execution_count": 7,
     "metadata": {},
     "output_type": "execute_result"
    }
   ],
   "source": [
    "df_relatorios['Valor (R$)'].max()"
   ]
  },
  {
   "cell_type": "code",
   "execution_count": 8,
   "metadata": {},
   "outputs": [],
   "source": [
    "from collections import Counter"
   ]
  },
  {
   "cell_type": "code",
   "execution_count": 9,
   "metadata": {},
   "outputs": [
    {
     "data": {
      "text/plain": [
       "Counter({nan: 409,\n",
       "         'Aditivo 2': 14,\n",
       "         'Aditivo 6': 2,\n",
       "         'Aditivo 7': 2,\n",
       "         'Aditivo 8': 2,\n",
       "         'Aditivo 1': 56,\n",
       "         'Aditivo 19': 1,\n",
       "         'Aditivo 3': 9,\n",
       "         'Aditivo 4': 5,\n",
       "         'Aditivo 5': 4,\n",
       "         'Aditivo 20': 1})"
      ]
     },
     "execution_count": 9,
     "metadata": {},
     "output_type": "execute_result"
    }
   ],
   "source": [
    "Counter(df_relatorios['Aditivo'])"
   ]
  },
  {
   "cell_type": "code",
   "execution_count": 10,
   "metadata": {},
   "outputs": [
    {
     "data": {
      "text/html": [
       "<div>\n",
       "<style scoped>\n",
       "    .dataframe tbody tr th:only-of-type {\n",
       "        vertical-align: middle;\n",
       "    }\n",
       "\n",
       "    .dataframe tbody tr th {\n",
       "        vertical-align: top;\n",
       "    }\n",
       "\n",
       "    .dataframe thead th {\n",
       "        text-align: right;\n",
       "    }\n",
       "</style>\n",
       "<table border=\"1\" class=\"dataframe\">\n",
       "  <thead>\n",
       "    <tr style=\"text-align: right;\">\n",
       "      <th></th>\n",
       "      <th>Data</th>\n",
       "      <th>Número</th>\n",
       "      <th>Início vigência</th>\n",
       "      <th>Fim vigência</th>\n",
       "      <th>Tipo</th>\n",
       "      <th>Aditivo</th>\n",
       "      <th>Contratado</th>\n",
       "      <th>Valor (R$)</th>\n",
       "      <th>Número de anexos</th>\n",
       "    </tr>\n",
       "  </thead>\n",
       "  <tbody>\n",
       "    <tr>\n",
       "      <th>425</th>\n",
       "      <td>05/06/2018</td>\n",
       "      <td>20130729</td>\n",
       "      <td>05/06/2018</td>\n",
       "      <td>02/12/2018</td>\n",
       "      <td>Aditivo de duração</td>\n",
       "      <td>Aditivo 20</td>\n",
       "      <td>DIMENSIONAL LOCAÇOES E SERVIÇOS LTDA</td>\n",
       "      <td>501.279,48</td>\n",
       "      <td>0</td>\n",
       "    </tr>\n",
       "  </tbody>\n",
       "</table>\n",
       "</div>"
      ],
      "text/plain": [
       "           Data    Número Início vigência Fim vigência                Tipo  \\\n",
       "425  05/06/2018  20130729      05/06/2018   02/12/2018  Aditivo de duração   \n",
       "\n",
       "        Aditivo                            Contratado  Valor (R$)  \\\n",
       "425  Aditivo 20  DIMENSIONAL LOCAÇOES E SERVIÇOS LTDA  501.279,48   \n",
       "\n",
       "     Número de anexos  \n",
       "425                 0  "
      ]
     },
     "execution_count": 10,
     "metadata": {},
     "output_type": "execute_result"
    }
   ],
   "source": [
    "df_relatorios[df_relatorios['Aditivo'] == 'Aditivo 20']"
   ]
  },
  {
   "cell_type": "code",
   "execution_count": 11,
   "metadata": {},
   "outputs": [
    {
     "data": {
      "text/html": [
       "<div>\n",
       "<style scoped>\n",
       "    .dataframe tbody tr th:only-of-type {\n",
       "        vertical-align: middle;\n",
       "    }\n",
       "\n",
       "    .dataframe tbody tr th {\n",
       "        vertical-align: top;\n",
       "    }\n",
       "\n",
       "    .dataframe thead th {\n",
       "        text-align: right;\n",
       "    }\n",
       "</style>\n",
       "<table border=\"1\" class=\"dataframe\">\n",
       "  <thead>\n",
       "    <tr style=\"text-align: right;\">\n",
       "      <th></th>\n",
       "      <th>Data</th>\n",
       "      <th>Número</th>\n",
       "      <th>Início vigência</th>\n",
       "      <th>Fim vigência</th>\n",
       "      <th>Tipo</th>\n",
       "      <th>Aditivo</th>\n",
       "      <th>Contratado</th>\n",
       "      <th>Valor (R$)</th>\n",
       "      <th>Número de anexos</th>\n",
       "    </tr>\n",
       "  </thead>\n",
       "  <tbody>\n",
       "    <tr>\n",
       "      <th>62</th>\n",
       "      <td>07/03/2018</td>\n",
       "      <td>20130729</td>\n",
       "      <td>07/03/2018</td>\n",
       "      <td>05/06/2018</td>\n",
       "      <td>Aditivo de duração</td>\n",
       "      <td>Aditivo 19</td>\n",
       "      <td>DIMENSIONAL LOCAÇOES E SERVIÇOS LTDA</td>\n",
       "      <td>501.279,48</td>\n",
       "      <td>0</td>\n",
       "    </tr>\n",
       "  </tbody>\n",
       "</table>\n",
       "</div>"
      ],
      "text/plain": [
       "          Data    Número Início vigência Fim vigência                Tipo  \\\n",
       "62  07/03/2018  20130729      07/03/2018   05/06/2018  Aditivo de duração   \n",
       "\n",
       "       Aditivo                            Contratado  Valor (R$)  \\\n",
       "62  Aditivo 19  DIMENSIONAL LOCAÇOES E SERVIÇOS LTDA  501.279,48   \n",
       "\n",
       "    Número de anexos  \n",
       "62                 0  "
      ]
     },
     "execution_count": 11,
     "metadata": {},
     "output_type": "execute_result"
    }
   ],
   "source": [
    "df_relatorios[df_relatorios['Aditivo'] == 'Aditivo 19']"
   ]
  },
  {
   "cell_type": "code",
   "execution_count": 18,
   "metadata": {},
   "outputs": [
    {
     "data": {
      "text/html": [
       "<div>\n",
       "<style scoped>\n",
       "    .dataframe tbody tr th:only-of-type {\n",
       "        vertical-align: middle;\n",
       "    }\n",
       "\n",
       "    .dataframe tbody tr th {\n",
       "        vertical-align: top;\n",
       "    }\n",
       "\n",
       "    .dataframe thead th {\n",
       "        text-align: right;\n",
       "    }\n",
       "</style>\n",
       "<table border=\"1\" class=\"dataframe\">\n",
       "  <thead>\n",
       "    <tr style=\"text-align: right;\">\n",
       "      <th></th>\n",
       "      <th>Data</th>\n",
       "      <th>Número</th>\n",
       "      <th>Início vigência</th>\n",
       "      <th>Fim vigência</th>\n",
       "      <th>Tipo</th>\n",
       "      <th>Aditivo</th>\n",
       "      <th>Contratado</th>\n",
       "      <th>Valor (R$)</th>\n",
       "      <th>Número de anexos</th>\n",
       "    </tr>\n",
       "  </thead>\n",
       "  <tbody>\n",
       "  </tbody>\n",
       "</table>\n",
       "</div>"
      ],
      "text/plain": [
       "Empty DataFrame\n",
       "Columns: [Data, Número, Início vigência, Fim vigência, Tipo, Aditivo, Contratado, Valor (R$), Número de anexos]\n",
       "Index: []"
      ]
     },
     "execution_count": 18,
     "metadata": {},
     "output_type": "execute_result"
    }
   ],
   "source": [
    "df_relatorios[df_relatorios['Número de anexos'] > 0]"
   ]
  },
  {
   "cell_type": "code",
   "execution_count": null,
   "metadata": {},
   "outputs": [],
   "source": []
  }
 ],
 "metadata": {
  "kernelspec": {
   "display_name": "Python 3",
   "language": "python",
   "name": "python3"
  },
  "language_info": {
   "codemirror_mode": {
    "name": "ipython",
    "version": 3
   },
   "file_extension": ".py",
   "mimetype": "text/x-python",
   "name": "python",
   "nbconvert_exporter": "python",
   "pygments_lexer": "ipython3",
   "version": "3.7.3"
  }
 },
 "nbformat": 4,
 "nbformat_minor": 2
}
