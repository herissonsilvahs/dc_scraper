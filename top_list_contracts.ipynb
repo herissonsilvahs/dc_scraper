{
 "cells": [
  {
   "cell_type": "code",
   "execution_count": 1,
   "metadata": {},
   "outputs": [],
   "source": [
    "import pandas as pd\n",
    "import numpy as np\n",
    "from matplotlib import pyplot as plt\n",
    "from decimal import Decimal\n",
    "from re import sub\n",
    "import locale\n",
    "\n",
    "locale.setlocale(locale.LC_ALL, '')\n",
    "\n",
    "contracts_2017 = pd.read_csv('data/relatorio_2017.csv')\n",
    "contracts_2018 = pd.read_csv('data/relatorio_2018.csv')\n",
    "contracts_2019 = pd.read_csv('data/relatorio_2019.csv')"
   ]
  },
  {
   "cell_type": "code",
   "execution_count": 2,
   "metadata": {},
   "outputs": [],
   "source": [
    "all_contracts = pd.concat([contracts_2017, contracts_2018, contracts_2019])"
   ]
  },
  {
   "cell_type": "code",
   "execution_count": 3,
   "metadata": {},
   "outputs": [
    {
     "data": {
      "text/html": [
       "<div>\n",
       "<style scoped>\n",
       "    .dataframe tbody tr th:only-of-type {\n",
       "        vertical-align: middle;\n",
       "    }\n",
       "\n",
       "    .dataframe tbody tr th {\n",
       "        vertical-align: top;\n",
       "    }\n",
       "\n",
       "    .dataframe thead th {\n",
       "        text-align: right;\n",
       "    }\n",
       "</style>\n",
       "<table border=\"1\" class=\"dataframe\">\n",
       "  <thead>\n",
       "    <tr style=\"text-align: right;\">\n",
       "      <th></th>\n",
       "      <th>Data</th>\n",
       "      <th>Número</th>\n",
       "      <th>Início vigência</th>\n",
       "      <th>Fim vigência</th>\n",
       "      <th>Tipo</th>\n",
       "      <th>Aditivo</th>\n",
       "      <th>Contratado</th>\n",
       "      <th>Valor (R$)</th>\n",
       "      <th>Número de anexos</th>\n",
       "    </tr>\n",
       "  </thead>\n",
       "  <tbody>\n",
       "    <tr>\n",
       "      <th>0</th>\n",
       "      <td>06/01/2017</td>\n",
       "      <td>20170019</td>\n",
       "      <td>06/01/2017</td>\n",
       "      <td>31/01/2017</td>\n",
       "      <td>Contrato original</td>\n",
       "      <td>NaN</td>\n",
       "      <td>MÉTODO CONTABILIDADE E CONSULTORIA SS LTDA-ME</td>\n",
       "      <td>4.500,00</td>\n",
       "      <td>0</td>\n",
       "    </tr>\n",
       "    <tr>\n",
       "      <th>1</th>\n",
       "      <td>06/01/2017</td>\n",
       "      <td>20170021</td>\n",
       "      <td>06/01/2017</td>\n",
       "      <td>31/01/2017</td>\n",
       "      <td>Contrato original</td>\n",
       "      <td>NaN</td>\n",
       "      <td>MÉTODO CONTABILIDADE E CONSULTORIA SS LTDA-ME</td>\n",
       "      <td>4.500,00</td>\n",
       "      <td>0</td>\n",
       "    </tr>\n",
       "    <tr>\n",
       "      <th>2</th>\n",
       "      <td>06/01/2017</td>\n",
       "      <td>20170023</td>\n",
       "      <td>06/01/2017</td>\n",
       "      <td>31/01/2017</td>\n",
       "      <td>Contrato original</td>\n",
       "      <td>NaN</td>\n",
       "      <td>MÉTODO CONTABILIDADE E CONSULTORIA SS LTDA-ME</td>\n",
       "      <td>3.500,00</td>\n",
       "      <td>0</td>\n",
       "    </tr>\n",
       "    <tr>\n",
       "      <th>3</th>\n",
       "      <td>06/01/2017</td>\n",
       "      <td>20170024</td>\n",
       "      <td>06/01/2017</td>\n",
       "      <td>31/01/2017</td>\n",
       "      <td>Contrato original</td>\n",
       "      <td>NaN</td>\n",
       "      <td>MÉTODO CONTABILIDADE E CONSULTORIA SS LTDA-ME</td>\n",
       "      <td>4.500,00</td>\n",
       "      <td>0</td>\n",
       "    </tr>\n",
       "    <tr>\n",
       "      <th>4</th>\n",
       "      <td>06/01/2017</td>\n",
       "      <td>20170020</td>\n",
       "      <td>06/01/2017</td>\n",
       "      <td>31/01/2017</td>\n",
       "      <td>Contrato original</td>\n",
       "      <td>NaN</td>\n",
       "      <td>MÉTODO CONTABILIDADE E CONSULTORIA SS LTDA-ME</td>\n",
       "      <td>4.500,00</td>\n",
       "      <td>0</td>\n",
       "    </tr>\n",
       "  </tbody>\n",
       "</table>\n",
       "</div>"
      ],
      "text/plain": [
       "         Data    Número Início vigência Fim vigência               Tipo  \\\n",
       "0  06/01/2017  20170019      06/01/2017   31/01/2017  Contrato original   \n",
       "1  06/01/2017  20170021      06/01/2017   31/01/2017  Contrato original   \n",
       "2  06/01/2017  20170023      06/01/2017   31/01/2017  Contrato original   \n",
       "3  06/01/2017  20170024      06/01/2017   31/01/2017  Contrato original   \n",
       "4  06/01/2017  20170020      06/01/2017   31/01/2017  Contrato original   \n",
       "\n",
       "  Aditivo                                     Contratado Valor (R$)  \\\n",
       "0     NaN  MÉTODO CONTABILIDADE E CONSULTORIA SS LTDA-ME   4.500,00   \n",
       "1     NaN  MÉTODO CONTABILIDADE E CONSULTORIA SS LTDA-ME   4.500,00   \n",
       "2     NaN  MÉTODO CONTABILIDADE E CONSULTORIA SS LTDA-ME   3.500,00   \n",
       "3     NaN  MÉTODO CONTABILIDADE E CONSULTORIA SS LTDA-ME   4.500,00   \n",
       "4     NaN  MÉTODO CONTABILIDADE E CONSULTORIA SS LTDA-ME   4.500,00   \n",
       "\n",
       "   Número de anexos  \n",
       "0                 0  \n",
       "1                 0  \n",
       "2                 0  \n",
       "3                 0  \n",
       "4                 0  "
      ]
     },
     "execution_count": 3,
     "metadata": {},
     "output_type": "execute_result"
    }
   ],
   "source": [
    "all_contracts.head()"
   ]
  },
  {
   "cell_type": "code",
   "execution_count": 4,
   "metadata": {},
   "outputs": [],
   "source": [
    "def to_float(x):\n",
    "    x = sub(r'[.]', '', x)\n",
    "    x = sub(r'[,]', '.', x)\n",
    "    return float(x)"
   ]
  },
  {
   "cell_type": "code",
   "execution_count": 5,
   "metadata": {},
   "outputs": [],
   "source": [
    "all_contracts['Valor (R$)'] = all_contracts['Valor (R$)'].apply(to_float)"
   ]
  },
  {
   "cell_type": "code",
   "execution_count": 6,
   "metadata": {},
   "outputs": [],
   "source": [
    "contratados = all_contracts.groupby(['Contratado']).sum()['Valor (R$)']"
   ]
  },
  {
   "cell_type": "code",
   "execution_count": 7,
   "metadata": {},
   "outputs": [],
   "source": [
    "def format_value(x):\n",
    "    return round(x, 2)\n",
    "contratados = contratados.apply(format_value)"
   ]
  },
  {
   "cell_type": "code",
   "execution_count": 8,
   "metadata": {},
   "outputs": [],
   "source": [
    "def filter_values(x):\n",
    "    if(x>4000.00):\n",
    "        return x\n",
    "contratados = contratados.apply(filter_values).dropna()"
   ]
  },
  {
   "cell_type": "code",
   "execution_count": 9,
   "metadata": {},
   "outputs": [],
   "source": [
    "contratados_sorted = contratados.sort_values(axis=0, ascending=False).head()"
   ]
  },
  {
   "cell_type": "code",
   "execution_count": 10,
   "metadata": {},
   "outputs": [],
   "source": [
    "def format_to_string(x):\n",
    "    return locale.currency(x, grouping=True)\n",
    "\n",
    "contratados_sorted_str = contratados_sorted.apply(format_to_string)"
   ]
  },
  {
   "cell_type": "code",
   "execution_count": 17,
   "metadata": {},
   "outputs": [
    {
     "data": {
      "text/plain": [
       "Contratado\n",
       "INSTITUTO MEDICO DE GESTAO INTEGRADA                       R$ 203.960.796,30\n",
       "CORAL-CONSTRUTORA RODOVALHO ALENCAR LTDA                   R$ 138.133.291,77\n",
       "PLANNA EMPREENDIMENTOS E FABRICACAO DE ASFALTO LIMITADA     R$ 46.456.535,53\n",
       "MANOEL ALEXANDRE DE SOUZA - ME                              R$ 19.181.452,11\n",
       "CONSTRUTORA TERRA NOVA LTDA                                 R$ 16.476.141,11\n",
       "Name: Valor (R$), dtype: object"
      ]
     },
     "execution_count": 17,
     "metadata": {},
     "output_type": "execute_result"
    }
   ],
   "source": [
    "contratados_sorted_str"
   ]
  }
 ],
 "metadata": {
  "@webio": {
   "lastCommId": null,
   "lastKernelId": null
  },
  "kernelspec": {
   "display_name": "Python 3",
   "language": "python",
   "name": "python3"
  },
  "language_info": {
   "codemirror_mode": {
    "name": "ipython",
    "version": 3
   },
   "file_extension": ".py",
   "mimetype": "text/x-python",
   "name": "python",
   "nbconvert_exporter": "python",
   "pygments_lexer": "ipython3",
   "version": "3.6.8"
  }
 },
 "nbformat": 4,
 "nbformat_minor": 2
}
