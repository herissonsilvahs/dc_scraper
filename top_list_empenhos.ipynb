{
 "cells": [
  {
   "cell_type": "code",
   "execution_count": 1,
   "metadata": {},
   "outputs": [],
   "source": [
    "import pandas as pd\n",
    "import numpy as np\n",
    "from matplotlib import pyplot as plt\n",
    "from decimal import Decimal\n",
    "from re import sub\n",
    "import locale\n",
    "\n",
    "locale.setlocale(locale.LC_ALL, '')\n",
    "\n",
    "df_csv_2017 = pd.read_csv('data/empenho_2017.csv')\n",
    "df_csv_2018 = pd.read_csv('data/empenho_2018.csv')\n",
    "df_csv_2019 = pd.read_csv('data/empenho_2019.csv')\n",
    "df_csv = pd.concat([df_csv_2017, df_csv_2018, df_csv_2019])"
   ]
  },
  {
   "cell_type": "code",
   "execution_count": 2,
   "metadata": {},
   "outputs": [],
   "source": [
    "def to_float(x):\n",
    "    x = sub(r'[.]', '', x)\n",
    "    x = sub(r'[,]', '.', x)\n",
    "    return float(x)\n",
    "\n",
    "df_csv['Valor (R$)'] = df_csv['Valor (R$)'].apply(to_float)"
   ]
  },
  {
   "cell_type": "code",
   "execution_count": 3,
   "metadata": {},
   "outputs": [],
   "source": [
    "empenhos = df_csv.groupby(['Unidade gestora']).sum()['Valor (R$)']"
   ]
  },
  {
   "cell_type": "code",
   "execution_count": 4,
   "metadata": {},
   "outputs": [],
   "source": [
    "def format_value(x):\n",
    "    return round(x, 2)\n",
    "empenhos = empenhos.apply(format_value)"
   ]
  },
  {
   "cell_type": "code",
   "execution_count": 5,
   "metadata": {},
   "outputs": [
    {
     "data": {
      "text/plain": [
       "Unidade gestora\n",
       "004 - Secretaria Municipal de Saúde                         2.538952e+08\n",
       "005 - Secretaria Municipal de Educação                      3.602690e+08\n",
       "006 - Sec. Mun. Assist. Social. e Cidadania                 1.291668e+07\n",
       "008 - Gabinete do Prefeito                                  7.357710e+06\n",
       "009 - Procuradoria Geral do Municipio                       3.719503e+06\n",
       "012 - Secretaria de Infraestrutura                          7.491959e+07\n",
       "013 - Secretaria de Meio-Ambiente e Serv. Publicos          1.178261e+08\n",
       "014 - Secretaria Mun. Seg. Publica e Cidadania              3.144512e+06\n",
       "021 - Demutran - Dpto Municipal de Transito                 1.493000e+07\n",
       "022 - Fundacao Memorial Padre Cicero                        8.760628e+05\n",
       "023 - Fundacao Guarda Municipal                             3.178769e+06\n",
       "037 - Secretaria Municipal de Gestao                        1.109786e+07\n",
       "039 - Secretaria Municipal da Cidade                        1.243705e+06\n",
       "042 - Controladoria e Ouvidoria Geral do Municipio          9.752871e+05\n",
       "043 - Autarquia Municipal do Meio Ambiente                  1.887693e+06\n",
       "045 - Secretaria Extraordinária de Turismo e Romaria        1.002042e+06\n",
       "046 - Secretaria Municipal de Desenvolvimento Econômico     1.738269e+06\n",
       "047 - Secretaria Municipal Esporte, Juventude e Cultura     5.102778e+06\n",
       "048 - Secretaria Mun. Planej., Ciência, Tecn. e Inovação    1.158385e+05\n",
       "049 - Sec. Mun. de Administração e Finanças                 2.919055e+07\n",
       "050 - Secretaria Municipal de Cultura                       5.029686e+06\n",
       "051 - Sec. Mun. de Agricultura e Abastecimento              2.819420e+06\n",
       "052 - Sec. Mun. de Esporte e Juventude                      1.368621e+07\n",
       "053 - Sec.Mun.Desenv.Soc.e Trabalho - SEDEST                2.691848e+07\n",
       "054 - Secretaria Municipal de Turismo e Romaria             2.298729e+06\n",
       "055 - Guarda Civil Municipal - GCM                          6.747190e+06\n",
       "056 - Fundo M.dos Dir.da Criança e Adolescente              4.361112e+04\n",
       "057 - Secretaria Municipal de Finanças                      1.034610e+07\n",
       "058 - Secretaria Municipal de Administração                 6.553453e+05\n",
       "059 - Guarda Civil Metropolitana - GCM                      3.243888e+06\n",
       "Name: Valor (R$), dtype: float64"
      ]
     },
     "execution_count": 5,
     "metadata": {},
     "output_type": "execute_result"
    }
   ],
   "source": [
    "empenhos"
   ]
  },
  {
   "cell_type": "code",
   "execution_count": 6,
   "metadata": {},
   "outputs": [],
   "source": [
    "def filter_values(x):\n",
    "    if(x>4000.00):\n",
    "        return x\n",
    "empenhos = empenhos.apply(filter_values).dropna()"
   ]
  },
  {
   "cell_type": "code",
   "execution_count": 20,
   "metadata": {},
   "outputs": [
    {
     "data": {
      "text/plain": [
       "Unidade gestora\n",
       "004 - Secretaria Municipal de Saúde                         2.538952e+08\n",
       "005 - Secretaria Municipal de Educação                      3.602690e+08\n",
       "006 - Sec. Mun. Assist. Social. e Cidadania                 1.291668e+07\n",
       "008 - Gabinete do Prefeito                                  7.357710e+06\n",
       "009 - Procuradoria Geral do Municipio                       3.719503e+06\n",
       "012 - Secretaria de Infraestrutura                          7.491959e+07\n",
       "013 - Secretaria de Meio-Ambiente e Serv. Publicos          1.178261e+08\n",
       "014 - Secretaria Mun. Seg. Publica e Cidadania              3.144512e+06\n",
       "021 - Demutran - Dpto Municipal de Transito                 1.493000e+07\n",
       "022 - Fundacao Memorial Padre Cicero                        8.760628e+05\n",
       "023 - Fundacao Guarda Municipal                             3.178769e+06\n",
       "037 - Secretaria Municipal de Gestao                        1.109786e+07\n",
       "039 - Secretaria Municipal da Cidade                        1.243705e+06\n",
       "042 - Controladoria e Ouvidoria Geral do Municipio          9.752871e+05\n",
       "043 - Autarquia Municipal do Meio Ambiente                  1.887693e+06\n",
       "045 - Secretaria Extraordinária de Turismo e Romaria        1.002042e+06\n",
       "046 - Secretaria Municipal de Desenvolvimento Econômico     1.738269e+06\n",
       "047 - Secretaria Municipal Esporte, Juventude e Cultura     5.102778e+06\n",
       "048 - Secretaria Mun. Planej., Ciência, Tecn. e Inovação    1.158385e+05\n",
       "049 - Sec. Mun. de Administração e Finanças                 2.919055e+07\n",
       "050 - Secretaria Municipal de Cultura                       5.029686e+06\n",
       "051 - Sec. Mun. de Agricultura e Abastecimento              2.819420e+06\n",
       "052 - Sec. Mun. de Esporte e Juventude                      1.368621e+07\n",
       "053 - Sec.Mun.Desenv.Soc.e Trabalho - SEDEST                2.691848e+07\n",
       "054 - Secretaria Municipal de Turismo e Romaria             2.298729e+06\n",
       "055 - Guarda Civil Municipal - GCM                          6.747190e+06\n",
       "056 - Fundo M.dos Dir.da Criança e Adolescente              4.361112e+04\n",
       "057 - Secretaria Municipal de Finanças                      1.034610e+07\n",
       "058 - Secretaria Municipal de Administração                 6.553453e+05\n",
       "059 - Guarda Civil Metropolitana - GCM                      3.243888e+06\n",
       "Name: Valor (R$), dtype: float64"
      ]
     },
     "execution_count": 20,
     "metadata": {},
     "output_type": "execute_result"
    }
   ],
   "source": [
    "empenhos"
   ]
  },
  {
   "cell_type": "code",
   "execution_count": 7,
   "metadata": {},
   "outputs": [],
   "source": [
    "unidades_sorted = empenhos.sort_values(axis=0, ascending=False).head()"
   ]
  },
  {
   "cell_type": "code",
   "execution_count": 8,
   "metadata": {},
   "outputs": [],
   "source": [
    "def format_to_string(x):\n",
    "    return locale.currency(x, grouping=True)\n",
    "\n",
    "unidades_sorted_str = unidades_sorted.apply(format_to_string)"
   ]
  },
  {
   "cell_type": "code",
   "execution_count": 9,
   "metadata": {},
   "outputs": [
    {
     "data": {
      "text/plain": [
       "Unidade gestora\n",
       "005 - Secretaria Municipal de Educação                R$ 360.268.993,98\n",
       "004 - Secretaria Municipal de Saúde                   R$ 253.895.210,59\n",
       "013 - Secretaria de Meio-Ambiente e Serv. Publicos    R$ 117.826.083,00\n",
       "012 - Secretaria de Infraestrutura                     R$ 74.919.592,09\n",
       "049 - Sec. Mun. de Administração e Finanças            R$ 29.190.548,24\n",
       "Name: Valor (R$), dtype: object"
      ]
     },
     "execution_count": 9,
     "metadata": {},
     "output_type": "execute_result"
    }
   ],
   "source": [
    "unidades_sorted_str"
   ]
  },
  {
   "cell_type": "code",
   "execution_count": null,
   "metadata": {},
   "outputs": [],
   "source": []
  }
 ],
 "metadata": {
  "@webio": {
   "lastCommId": null,
   "lastKernelId": null
  },
  "kernelspec": {
   "display_name": "Python 3",
   "language": "python",
   "name": "python3"
  },
  "language_info": {
   "codemirror_mode": {
    "name": "ipython",
    "version": 3
   },
   "file_extension": ".py",
   "mimetype": "text/x-python",
   "name": "python",
   "nbconvert_exporter": "python",
   "pygments_lexer": "ipython3",
   "version": "3.6.8"
  }
 },
 "nbformat": 4,
 "nbformat_minor": 2
}
